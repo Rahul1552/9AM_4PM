{
 "cells": [
  {
   "cell_type": "markdown",
   "id": "d253dd18",
   "metadata": {},
   "source": [
    "# Function"
   ]
  },
  {
   "cell_type": "code",
   "execution_count": 1,
   "id": "b8bfe6d6",
   "metadata": {},
   "outputs": [],
   "source": [
    "# what is the use of a function\n",
    "# what are modules"
   ]
  },
  {
   "cell_type": "code",
   "execution_count": 2,
   "id": "6decce73",
   "metadata": {},
   "outputs": [],
   "source": [
    "# types \n",
    "# inbuilt Eg: print , type , del\n",
    "# user defined\n",
    "# lambda"
   ]
  },
  {
   "cell_type": "code",
   "execution_count": 3,
   "id": "d1dce3e1",
   "metadata": {},
   "outputs": [],
   "source": [
    "# user defined function"
   ]
  },
  {
   "cell_type": "code",
   "execution_count": 4,
   "id": "9eed7347",
   "metadata": {},
   "outputs": [
    {
     "name": "stdout",
     "output_type": "stream",
     "text": [
      "30\n"
     ]
    }
   ],
   "source": [
    "a =  10\n",
    "b = 20\n",
    "print(a+b)"
   ]
  },
  {
   "cell_type": "code",
   "execution_count": 5,
   "id": "26e93a6c",
   "metadata": {},
   "outputs": [
    {
     "name": "stdout",
     "output_type": "stream",
     "text": [
      "300\n"
     ]
    }
   ],
   "source": [
    "a =  100\n",
    "b = 200\n",
    "print(a+b)"
   ]
  },
  {
   "cell_type": "code",
   "execution_count": 6,
   "id": "62c7e975",
   "metadata": {},
   "outputs": [],
   "source": [
    "# we have to write the code again for addition as abve every time "
   ]
  },
  {
   "cell_type": "code",
   "execution_count": 7,
   "id": "2f1a2d1a",
   "metadata": {},
   "outputs": [],
   "source": [
    "# we can write code that can be reused"
   ]
  },
  {
   "cell_type": "markdown",
   "id": "87c1e6c3",
   "metadata": {},
   "source": [
    "# writing first function"
   ]
  },
  {
   "cell_type": "code",
   "execution_count": 8,
   "id": "b021ac9e",
   "metadata": {},
   "outputs": [],
   "source": [
    "def test(x,y):\n",
    "    pass"
   ]
  },
  {
   "cell_type": "code",
   "execution_count": 9,
   "id": "fb41036a",
   "metadata": {},
   "outputs": [],
   "source": [
    "#calling a function\n",
    "# test()   # error is :missing 2 required positional arguments: 'x' and 'y'"
   ]
  },
  {
   "cell_type": "code",
   "execution_count": 10,
   "id": "de842b20",
   "metadata": {},
   "outputs": [],
   "source": [
    "test(10,20) # passing the arguments"
   ]
  },
  {
   "cell_type": "code",
   "execution_count": 11,
   "id": "6b151c32",
   "metadata": {},
   "outputs": [],
   "source": [
    "# adding body of the function"
   ]
  },
  {
   "cell_type": "code",
   "execution_count": 12,
   "id": "53ada1bc",
   "metadata": {},
   "outputs": [],
   "source": [
    "def test(x,y):\n",
    "    print(x+y)"
   ]
  },
  {
   "cell_type": "code",
   "execution_count": 13,
   "id": "76f5433c",
   "metadata": {},
   "outputs": [
    {
     "name": "stdout",
     "output_type": "stream",
     "text": [
      "30\n"
     ]
    }
   ],
   "source": [
    "test(10,20) # now we will get the ans"
   ]
  },
  {
   "cell_type": "code",
   "execution_count": 14,
   "id": "4059d85c",
   "metadata": {},
   "outputs": [
    {
     "name": "stdout",
     "output_type": "stream",
     "text": [
      "300\n"
     ]
    }
   ],
   "source": [
    "test(100,200)"
   ]
  },
  {
   "cell_type": "markdown",
   "id": "d006abb3",
   "metadata": {},
   "source": [
    "# function that returns"
   ]
  },
  {
   "cell_type": "code",
   "execution_count": 15,
   "id": "c52b55b2",
   "metadata": {},
   "outputs": [],
   "source": [
    "def test1(x,y):\n",
    "    return x*y"
   ]
  },
  {
   "cell_type": "code",
   "execution_count": 16,
   "id": "60a28846",
   "metadata": {},
   "outputs": [
    {
     "name": "stdout",
     "output_type": "stream",
     "text": [
      "200\n"
     ]
    }
   ],
   "source": [
    "print(test1(10,20))"
   ]
  },
  {
   "cell_type": "code",
   "execution_count": 17,
   "id": "3f889df5",
   "metadata": {},
   "outputs": [],
   "source": [
    "# comparing return types in test1 and test2 functions"
   ]
  },
  {
   "cell_type": "code",
   "execution_count": 18,
   "id": "4c44ceaa",
   "metadata": {},
   "outputs": [
    {
     "name": "stdout",
     "output_type": "stream",
     "text": [
      "<class 'int'>\n"
     ]
    }
   ],
   "source": [
    "print(type(test1(10,20))) # <class 'int'>"
   ]
  },
  {
   "cell_type": "code",
   "execution_count": 19,
   "id": "11dd370d",
   "metadata": {},
   "outputs": [
    {
     "name": "stdout",
     "output_type": "stream",
     "text": [
      "30\n",
      "<class 'NoneType'>\n"
     ]
    }
   ],
   "source": [
    "print(type(test(10,20)))# <class 'NoneType'>"
   ]
  },
  {
   "cell_type": "code",
   "execution_count": 20,
   "id": "1c1ad649",
   "metadata": {},
   "outputs": [
    {
     "name": "stdout",
     "output_type": "stream",
     "text": [
      "726\n"
     ]
    }
   ],
   "source": [
    "# we can store the returned value\n",
    "a = test1(22,33)\n",
    "print(a)"
   ]
  },
  {
   "cell_type": "code",
   "execution_count": 21,
   "id": "13b21fa3",
   "metadata": {},
   "outputs": [],
   "source": [
    "# print is not recommended as retun in functions\n",
    "# as we cant use the output of that functuion for further operation"
   ]
  },
  {
   "cell_type": "code",
   "execution_count": 22,
   "id": "eb8e4784",
   "metadata": {},
   "outputs": [],
   "source": [
    "def test3(x,y,z):\n",
    "    return x+y"
   ]
  },
  {
   "cell_type": "code",
   "execution_count": 23,
   "id": "faebb3d6",
   "metadata": {},
   "outputs": [],
   "source": [
    "# ans = test3(10,20) # error : missing 1 required positional argument\n",
    "\n",
    "# we have to provide the exact number of arguments \n",
    "# as given in defination of the function"
   ]
  },
  {
   "cell_type": "code",
   "execution_count": 24,
   "id": "dcfe1868",
   "metadata": {},
   "outputs": [],
   "source": [
    "ans = test3(10,20,0)"
   ]
  },
  {
   "cell_type": "code",
   "execution_count": 25,
   "id": "34433595",
   "metadata": {},
   "outputs": [
    {
     "name": "stdout",
     "output_type": "stream",
     "text": [
      "30\n"
     ]
    }
   ],
   "source": [
    "print(ans)"
   ]
  },
  {
   "cell_type": "markdown",
   "id": "f8d9f106",
   "metadata": {},
   "source": [
    "# returning multiple valus"
   ]
  },
  {
   "cell_type": "code",
   "execution_count": 26,
   "id": "2d03a9fb",
   "metadata": {},
   "outputs": [],
   "source": [
    "def test4(a,b):\n",
    "    return a*2 ,b*2 , a+b #is this valid"
   ]
  },
  {
   "cell_type": "code",
   "execution_count": 27,
   "id": "64587577",
   "metadata": {},
   "outputs": [],
   "source": [
    "ans = test4(10,20)"
   ]
  },
  {
   "cell_type": "code",
   "execution_count": 28,
   "id": "e052170f",
   "metadata": {},
   "outputs": [
    {
     "name": "stdout",
     "output_type": "stream",
     "text": [
      "(20, 40, 30)\n"
     ]
    }
   ],
   "source": [
    "print(ans) #ans will be a tuple"
   ]
  },
  {
   "cell_type": "code",
   "execution_count": 29,
   "id": "1b470d37",
   "metadata": {},
   "outputs": [
    {
     "name": "stdout",
     "output_type": "stream",
     "text": [
      "<class 'tuple'>\n"
     ]
    }
   ],
   "source": [
    "print(type(ans)) #<class 'tuple'>"
   ]
  },
  {
   "cell_type": "code",
   "execution_count": 30,
   "id": "b0d02885",
   "metadata": {},
   "outputs": [],
   "source": [
    "# unpacking atuple concept\n",
    "\n",
    "x,y,z = test4(7,10)"
   ]
  },
  {
   "cell_type": "code",
   "execution_count": 31,
   "id": "eb1503dd",
   "metadata": {},
   "outputs": [
    {
     "name": "stdout",
     "output_type": "stream",
     "text": [
      "14\n",
      "20\n",
      "17\n"
     ]
    }
   ],
   "source": [
    "print(x)\n",
    "print(y)\n",
    "print(z)"
   ]
  },
  {
   "cell_type": "code",
   "execution_count": 32,
   "id": "9d3db1c8",
   "metadata": {},
   "outputs": [],
   "source": [
    "# when we dont want all the outputs of a function/\n",
    "#  we use placeholde \"_\"\n",
    "\n",
    "# if we dont want the value at z position we use \"_\" as placeholder\n",
    "#  output will not be affected \n",
    "#  but we are not creating a new variable\n",
    "x,y,_ = test4(7,10)"
   ]
  },
  {
   "cell_type": "code",
   "execution_count": 33,
   "id": "bf9cb379",
   "metadata": {},
   "outputs": [
    {
     "name": "stdout",
     "output_type": "stream",
     "text": [
      "14\n",
      "20\n",
      "17\n"
     ]
    }
   ],
   "source": [
    "print(x)\n",
    "print(y)\n",
    "print(_)"
   ]
  },
  {
   "cell_type": "code",
   "execution_count": 34,
   "id": "c853c1e2",
   "metadata": {},
   "outputs": [],
   "source": [
    "_,_,_ = test4(7,10) #not recommended to use like this\n",
    "# python will get confused "
   ]
  },
  {
   "cell_type": "code",
   "execution_count": 35,
   "id": "84f5a04c",
   "metadata": {},
   "outputs": [
    {
     "name": "stdout",
     "output_type": "stream",
     "text": [
      "17\n",
      "17\n",
      "17\n"
     ]
    }
   ],
   "source": [
    "print(_)\n",
    "print(_)\n",
    "print(_)"
   ]
  },
  {
   "cell_type": "markdown",
   "id": "f4b062e3",
   "metadata": {},
   "source": [
    "# List as an argument of a function"
   ]
  },
  {
   "cell_type": "code",
   "execution_count": 36,
   "id": "89da43e9",
   "metadata": {},
   "outputs": [],
   "source": [
    "def one(a):\n",
    "    return a*2"
   ]
  },
  {
   "cell_type": "code",
   "execution_count": 37,
   "id": "09211b9a",
   "metadata": {},
   "outputs": [],
   "source": [
    "ans = one([1,2,3,4,5])"
   ]
  },
  {
   "cell_type": "code",
   "execution_count": 38,
   "id": "36a4b52e",
   "metadata": {},
   "outputs": [
    {
     "name": "stdout",
     "output_type": "stream",
     "text": [
      "[1, 2, 3, 4, 5, 1, 2, 3, 4, 5]\n"
     ]
    }
   ],
   "source": [
    "print(ans)"
   ]
  },
  {
   "cell_type": "code",
   "execution_count": 39,
   "id": "0d57a714",
   "metadata": {},
   "outputs": [
    {
     "name": "stdout",
     "output_type": "stream",
     "text": [
      "<class 'list'>\n"
     ]
    }
   ],
   "source": [
    "print(type(ans))"
   ]
  },
  {
   "cell_type": "code",
   "execution_count": 40,
   "id": "aa3ec04c",
   "metadata": {},
   "outputs": [
    {
     "name": "stdout",
     "output_type": "stream",
     "text": [
      "1\n"
     ]
    }
   ],
   "source": [
    "# we can access the items in the list \"ans\"\n",
    "# using indexing\n",
    "print(ans[0])"
   ]
  },
  {
   "cell_type": "code",
   "execution_count": 41,
   "id": "f946474d",
   "metadata": {},
   "outputs": [],
   "source": [
    "# returning multiple values"
   ]
  },
  {
   "cell_type": "code",
   "execution_count": 42,
   "id": "b87f10ec",
   "metadata": {},
   "outputs": [],
   "source": [
    "def one(a):\n",
    "    return a*2 ,a"
   ]
  },
  {
   "cell_type": "code",
   "execution_count": 99,
   "id": "653473d9",
   "metadata": {},
   "outputs": [],
   "source": [
    "ans = one([1,2,3,4,5])"
   ]
  },
  {
   "cell_type": "code",
   "execution_count": 100,
   "id": "160400cb",
   "metadata": {},
   "outputs": [
    {
     "name": "stdout",
     "output_type": "stream",
     "text": [
      "([1, 2, 3, 4, 5, 1, 2, 3, 4, 5], [1, 2, 3, 4, 5])\n"
     ]
    }
   ],
   "source": [
    "print(ans)"
   ]
  },
  {
   "cell_type": "code",
   "execution_count": 101,
   "id": "08b8fc4f",
   "metadata": {},
   "outputs": [],
   "source": [
    "x ,y = ans # accessing individual values"
   ]
  },
  {
   "cell_type": "code",
   "execution_count": 102,
   "id": "fc13f67c",
   "metadata": {},
   "outputs": [
    {
     "name": "stdout",
     "output_type": "stream",
     "text": [
      "[1, 2, 3, 4, 5, 1, 2, 3, 4, 5]\n"
     ]
    }
   ],
   "source": [
    "print(x)"
   ]
  },
  {
   "cell_type": "code",
   "execution_count": 103,
   "id": "29d5d2f9",
   "metadata": {},
   "outputs": [
    {
     "name": "stdout",
     "output_type": "stream",
     "text": [
      "[1, 2, 3, 4, 5]\n"
     ]
    }
   ],
   "source": [
    "print(y)"
   ]
  },
  {
   "cell_type": "code",
   "execution_count": null,
   "id": "376e3fb1",
   "metadata": {},
   "outputs": [],
   "source": []
  },
  {
   "cell_type": "markdown",
   "id": "88545c7a",
   "metadata": {},
   "source": [
    "# default argument values"
   ]
  },
  {
   "cell_type": "code",
   "execution_count": 45,
   "id": "e3690576",
   "metadata": {},
   "outputs": [],
   "source": [
    "def two(a,b):\n",
    "    return a + b"
   ]
  },
  {
   "cell_type": "code",
   "execution_count": 46,
   "id": "340e130b",
   "metadata": {},
   "outputs": [],
   "source": [
    "ans = two(20,30)"
   ]
  },
  {
   "cell_type": "code",
   "execution_count": 47,
   "id": "963ef133",
   "metadata": {
    "scrolled": true
   },
   "outputs": [
    {
     "name": "stdout",
     "output_type": "stream",
     "text": [
      "50\n"
     ]
    }
   ],
   "source": [
    "print(ans)"
   ]
  },
  {
   "cell_type": "code",
   "execution_count": 104,
   "id": "05d8b1c7",
   "metadata": {},
   "outputs": [],
   "source": [
    "# there is order in which arguments can be placed\n",
    "# find the order ????"
   ]
  },
  {
   "cell_type": "code",
   "execution_count": 48,
   "id": "d29cef9e",
   "metadata": {},
   "outputs": [],
   "source": [
    "def two(a,b=30):\n",
    "    return a + b"
   ]
  },
  {
   "cell_type": "code",
   "execution_count": 49,
   "id": "98bf3aa5",
   "metadata": {},
   "outputs": [],
   "source": [
    "ans = two(30) #default value of b = 30 is used"
   ]
  },
  {
   "cell_type": "code",
   "execution_count": 50,
   "id": "7b780ecb",
   "metadata": {},
   "outputs": [
    {
     "name": "stdout",
     "output_type": "stream",
     "text": [
      "60\n"
     ]
    }
   ],
   "source": [
    "print(ans)"
   ]
  },
  {
   "cell_type": "code",
   "execution_count": 51,
   "id": "5c896705",
   "metadata": {},
   "outputs": [],
   "source": [
    "ans = two(30,100)"
   ]
  },
  {
   "cell_type": "code",
   "execution_count": 105,
   "id": "08b8ce0b",
   "metadata": {},
   "outputs": [
    {
     "name": "stdout",
     "output_type": "stream",
     "text": [
      "([1, 2, 3, 4, 5, 1, 2, 3, 4, 5], [1, 2, 3, 4, 5])\n"
     ]
    }
   ],
   "source": [
    "print(ans) ##default value of b is overwritten"
   ]
  },
  {
   "cell_type": "code",
   "execution_count": 107,
   "id": "e7efb743",
   "metadata": {},
   "outputs": [],
   "source": [
    "def bool1(x=True,y=False):\n",
    "    return x+y"
   ]
  },
  {
   "cell_type": "code",
   "execution_count": 108,
   "id": "2404f4f0",
   "metadata": {},
   "outputs": [
    {
     "name": "stdout",
     "output_type": "stream",
     "text": [
      "1\n"
     ]
    }
   ],
   "source": [
    "print(bool1()) # 1 +0 = 1"
   ]
  },
  {
   "cell_type": "code",
   "execution_count": 114,
   "id": "d773a739",
   "metadata": {},
   "outputs": [
    {
     "name": "stdout",
     "output_type": "stream",
     "text": [
      "0\n"
     ]
    }
   ],
   "source": [
    "print(bool1(False)) # 0 +0 = 1"
   ]
  },
  {
   "cell_type": "code",
   "execution_count": 111,
   "id": "ffbc6610",
   "metadata": {},
   "outputs": [],
   "source": [
    "# what are Doc srtrings ?"
   ]
  },
  {
   "cell_type": "code",
   "execution_count": 112,
   "id": "eba07b23",
   "metadata": {},
   "outputs": [],
   "source": [
    "# PEP8 guide ??"
   ]
  },
  {
   "cell_type": "code",
   "execution_count": 115,
   "id": "943d16e4",
   "metadata": {},
   "outputs": [],
   "source": [
    "def travel(bike =True, car =False):\n",
    "    plan_travel = bike or car\n",
    "    return bike ,car,plan_travel"
   ]
  },
  {
   "cell_type": "code",
   "execution_count": 116,
   "id": "322f1a40",
   "metadata": {},
   "outputs": [
    {
     "data": {
      "text/plain": [
       "(True, False, True)"
      ]
     },
     "execution_count": 116,
     "metadata": {},
     "output_type": "execute_result"
    }
   ],
   "source": [
    "travel()"
   ]
  },
  {
   "cell_type": "code",
   "execution_count": 117,
   "id": "720cef58",
   "metadata": {},
   "outputs": [],
   "source": [
    "# order of the variable matters while defining and calling the function"
   ]
  },
  {
   "cell_type": "code",
   "execution_count": 118,
   "id": "04681081",
   "metadata": {},
   "outputs": [
    {
     "data": {
      "text/plain": [
       "(False, False, False)"
      ]
     },
     "execution_count": 118,
     "metadata": {},
     "output_type": "execute_result"
    }
   ],
   "source": [
    "travel(False) #default vale of bike will be changed to False"
   ]
  },
  {
   "cell_type": "code",
   "execution_count": 119,
   "id": "5dce3efb",
   "metadata": {},
   "outputs": [
    {
     "data": {
      "text/plain": [
       "(True, True, True)"
      ]
     },
     "execution_count": 119,
     "metadata": {},
     "output_type": "execute_result"
    }
   ],
   "source": [
    "travel(car = True) #default vale of car will be changed to True"
   ]
  },
  {
   "cell_type": "code",
   "execution_count": 120,
   "id": "e519c5e4",
   "metadata": {},
   "outputs": [],
   "source": [
    "#keyword arguments"
   ]
  },
  {
   "cell_type": "markdown",
   "id": "7fd700e5",
   "metadata": {},
   "source": [
    "# NUMBER OF VARIABLES NOT KNOWN"
   ]
  },
  {
   "cell_type": "code",
   "execution_count": null,
   "id": "2e3702d0",
   "metadata": {},
   "outputs": [],
   "source": [
    "#*args returns tuple"
   ]
  },
  {
   "cell_type": "code",
   "execution_count": 125,
   "id": "af046090",
   "metadata": {},
   "outputs": [],
   "source": [
    "def test1(*args): #to pass multiple arguments\n",
    "    return args\n",
    "\n",
    "\n",
    "\n"
   ]
  },
  {
   "cell_type": "code",
   "execution_count": 143,
   "id": "1493e078",
   "metadata": {},
   "outputs": [
    {
     "name": "stdout",
     "output_type": "stream",
     "text": [
      "(11, 22, 33, False, [77, 88, 99], True)\n"
     ]
    }
   ],
   "source": [
    "a = test1(11,22,33,False, [77,88,99], True)\n",
    "print(a)"
   ]
  },
  {
   "cell_type": "code",
   "execution_count": 129,
   "id": "79bf336b",
   "metadata": {},
   "outputs": [],
   "source": [
    "# practice is to use *args\n",
    "# but we can use any other variable also\n",
    "\n",
    "def test2(*p): #to pass multiple arguments\n",
    "    return p"
   ]
  },
  {
   "cell_type": "code",
   "execution_count": 144,
   "id": "63ff3414",
   "metadata": {},
   "outputs": [
    {
     "name": "stdout",
     "output_type": "stream",
     "text": [
      "(11, 22, 33, True)\n"
     ]
    }
   ],
   "source": [
    "z = test2(11,22,33, True)\n",
    "print(z)"
   ]
  },
  {
   "cell_type": "code",
   "execution_count": 145,
   "id": "9e96309f",
   "metadata": {},
   "outputs": [
    {
     "name": "stdout",
     "output_type": "stream",
     "text": [
      "[22, 33, 44, 'RAHUL']\n"
     ]
    }
   ],
   "source": [
    "# fun to concatenate variable number of list/arg\n",
    "def concat(*args):\n",
    "    ans =[]\n",
    "    for i in args:\n",
    "        ans.append(i)\n",
    "    return ans\n",
    "        \n",
    "c = concat(22,33,44,\"RAHUL\")\n",
    "print(c)"
   ]
  },
  {
   "cell_type": "code",
   "execution_count": 140,
   "id": "a4601ede",
   "metadata": {},
   "outputs": [],
   "source": [
    "# fun to concatenate variable number of list/arg\n",
    "def concat(*args):\n",
    "    ans =[]\n",
    "    for i in args:\n",
    "        if type(i) == list:\n",
    "            ans = ans + i #only work for list\n",
    "    return ans"
   ]
  },
  {
   "cell_type": "code",
   "execution_count": 146,
   "id": "b770a9a9",
   "metadata": {},
   "outputs": [
    {
     "name": "stdout",
     "output_type": "stream",
     "text": [
      "[[22, 33, 44, 'RAHUL'], [22, 33, 44, 'RAHUL']]\n"
     ]
    }
   ],
   "source": [
    "z = concat([22,33,44,\"RAHUL\"],[22,33,44,\"RAHUL\"])\n",
    "print(z)"
   ]
  },
  {
   "cell_type": "code",
   "execution_count": 156,
   "id": "5be8528b",
   "metadata": {},
   "outputs": [],
   "source": [
    "#  *kwargs key=value pair as arguments\n",
    "# used in dict craetion ???"
   ]
  },
  {
   "cell_type": "code",
   "execution_count": 157,
   "id": "b86b4889",
   "metadata": {},
   "outputs": [],
   "source": [
    "def one(**kwargs):\n",
    "    return kwargs"
   ]
  },
  {
   "cell_type": "code",
   "execution_count": 158,
   "id": "6f435675",
   "metadata": {},
   "outputs": [
    {
     "name": "stdout",
     "output_type": "stream",
     "text": [
      "{'a': 1, 'b': 2, 'c': 3}\n"
     ]
    }
   ],
   "source": [
    "p = one(a=1,b=2,c=3)\n",
    "print(p) #returns in a dict format"
   ]
  },
  {
   "cell_type": "code",
   "execution_count": 170,
   "id": "804473e7",
   "metadata": {},
   "outputs": [],
   "source": [
    "def test(**kwargs):\n",
    "    print(\"Good\")\n",
    "    print(kwargs.items())"
   ]
  },
  {
   "cell_type": "code",
   "execution_count": 171,
   "id": "1da2e924",
   "metadata": {},
   "outputs": [
    {
     "name": "stdout",
     "output_type": "stream",
     "text": [
      "Good\n",
      "dict_items([('Institute', 'Minskole'), ('location', 'Pune'), ('Pin', 400001)])\n"
     ]
    }
   ],
   "source": [
    "test(Institute = \"Minskole\" , location = \"Pune\" , Pin =  400001)"
   ]
  },
  {
   "cell_type": "markdown",
   "id": "7666b900",
   "metadata": {},
   "source": [
    "# Lambda Function"
   ]
  },
  {
   "cell_type": "code",
   "execution_count": 172,
   "id": "c6905f40",
   "metadata": {},
   "outputs": [],
   "source": [
    "# nameless\n",
    "# anonymous function"
   ]
  },
  {
   "cell_type": "code",
   "execution_count": 178,
   "id": "e64d9dbe",
   "metadata": {},
   "outputs": [],
   "source": [
    "def student(name,domain):\n",
    "    concate = name+domain\n",
    "    return name, domain , concate\n"
   ]
  },
  {
   "cell_type": "code",
   "execution_count": 179,
   "id": "0ecbaa36",
   "metadata": {},
   "outputs": [
    {
     "data": {
      "text/plain": [
       "('Rahul', '@gmail.com', 'Rahul@gmail.com')"
      ]
     },
     "execution_count": 179,
     "metadata": {},
     "output_type": "execute_result"
    }
   ],
   "source": [
    "\n",
    "student(\"Rahul\",\"@gmail.com\")"
   ]
  },
  {
   "cell_type": "code",
   "execution_count": 189,
   "id": "af8706b3",
   "metadata": {},
   "outputs": [],
   "source": [
    "a = 50\n",
    "b = 150\n",
    "def test(x,y):\n",
    "    return x+y\n"
   ]
  },
  {
   "cell_type": "code",
   "execution_count": 190,
   "id": "8d028ecf",
   "metadata": {},
   "outputs": [
    {
     "data": {
      "text/plain": [
       "200"
      ]
     },
     "execution_count": 190,
     "metadata": {},
     "output_type": "execute_result"
    }
   ],
   "source": [
    "test(a,b)"
   ]
  },
  {
   "cell_type": "code",
   "execution_count": 191,
   "id": "eebddf52",
   "metadata": {},
   "outputs": [],
   "source": [
    "m = lambda x,y : x+y"
   ]
  },
  {
   "cell_type": "code",
   "execution_count": 192,
   "id": "cd0eb382",
   "metadata": {},
   "outputs": [
    {
     "name": "stdout",
     "output_type": "stream",
     "text": [
      "200\n"
     ]
    }
   ],
   "source": [
    "print(m(a,b))"
   ]
  },
  {
   "cell_type": "code",
   "execution_count": 193,
   "id": "bbb55d08",
   "metadata": {},
   "outputs": [],
   "source": [
    "# eg:\n",
    "\n",
    "\n",
    "z = lambda x,y : print(x+y)"
   ]
  },
  {
   "cell_type": "code",
   "execution_count": 196,
   "id": "e4738eab",
   "metadata": {},
   "outputs": [
    {
     "name": "stdout",
     "output_type": "stream",
     "text": [
      "109\n"
     ]
    }
   ],
   "source": [
    "z(100,9)"
   ]
  },
  {
   "cell_type": "markdown",
   "id": "b55bbf84",
   "metadata": {},
   "source": [
    "# SCOPE A VARIABLE"
   ]
  },
  {
   "cell_type": "code",
   "execution_count": null,
   "id": "60645b6f",
   "metadata": {},
   "outputs": [],
   "source": [
    "# SCOPE A VARIABLE\n",
    "# local\n",
    "# global"
   ]
  },
  {
   "cell_type": "code",
   "execution_count": 199,
   "id": "4496a1df",
   "metadata": {},
   "outputs": [],
   "source": [
    "r = \"Sunday\"\n",
    "def func1(a,b):\n",
    "    r = a + b\n",
    "    print(r)"
   ]
  },
  {
   "cell_type": "code",
   "execution_count": 201,
   "id": "26fcf1e0",
   "metadata": {},
   "outputs": [
    {
     "name": "stdout",
     "output_type": "stream",
     "text": [
      "30\n"
     ]
    }
   ],
   "source": [
    "func1(10,20)"
   ]
  },
  {
   "cell_type": "markdown",
   "id": "923e026e",
   "metadata": {},
   "source": [
    "# Doc string"
   ]
  },
  {
   "cell_type": "code",
   "execution_count": 202,
   "id": "1e3fd8e8",
   "metadata": {},
   "outputs": [],
   "source": [
    "def func2():\n",
    "    '''\n",
    "    This is a Palind\n",
    "    '''\n",
    "    print(\"This is a Palind\")"
   ]
  },
  {
   "cell_type": "code",
   "execution_count": 204,
   "id": "96bd7002",
   "metadata": {},
   "outputs": [
    {
     "name": "stdout",
     "output_type": "stream",
     "text": [
      "Help on function func2 in module __main__:\n",
      "\n",
      "func2()\n",
      "    This is a Palind\n",
      "\n"
     ]
    }
   ],
   "source": [
    "#help\n",
    "help(func2)"
   ]
  },
  {
   "cell_type": "code",
   "execution_count": 206,
   "id": "7b533b5e",
   "metadata": {},
   "outputs": [],
   "source": [
    "# dir(func2)  ?????"
   ]
  },
  {
   "cell_type": "code",
   "execution_count": 203,
   "id": "b76b25e1",
   "metadata": {},
   "outputs": [
    {
     "name": "stdout",
     "output_type": "stream",
     "text": [
      "\n",
      "    This is a Palind\n",
      "    \n"
     ]
    }
   ],
   "source": [
    "print(func2.__doc__)"
   ]
  },
  {
   "cell_type": "markdown",
   "id": "20b89bad",
   "metadata": {},
   "source": [
    "# ITERATOR AND GENERATOR"
   ]
  },
  {
   "cell_type": "code",
   "execution_count": 208,
   "id": "5da13079",
   "metadata": {},
   "outputs": [],
   "source": [
    "# a = 10\n",
    "# for i in a:\n",
    "#     print(i) #'int' object is not iterable"
   ]
  },
  {
   "cell_type": "code",
   "execution_count": null,
   "id": "46d015e6",
   "metadata": {},
   "outputs": [],
   "source": []
  }
 ],
 "metadata": {
  "kernelspec": {
   "display_name": "Python 3 (ipykernel)",
   "language": "python",
   "name": "python3"
  },
  "language_info": {
   "codemirror_mode": {
    "name": "ipython",
    "version": 3
   },
   "file_extension": ".py",
   "mimetype": "text/x-python",
   "name": "python",
   "nbconvert_exporter": "python",
   "pygments_lexer": "ipython3",
   "version": "3.10.5"
  }
 },
 "nbformat": 4,
 "nbformat_minor": 5
}
